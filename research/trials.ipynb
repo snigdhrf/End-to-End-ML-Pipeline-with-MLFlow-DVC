{
 "cells": [
  {
   "cell_type": "code",
   "execution_count": 2,
   "id": "9668a88b",
   "metadata": {},
   "outputs": [],
   "source": [
    "from box.exceptions import BoxValueError\n",
    "from ensure import ensure_annotations\n",
    "from box import ConfigBox"
   ]
  },
  {
   "cell_type": "code",
   "execution_count": 3,
   "id": "577c62c0",
   "metadata": {},
   "outputs": [
    {
     "data": {
      "text/plain": [
       "'11SpnlqeVOUOu72uTYBAn7p0C-oArz067'"
      ]
     },
     "execution_count": 3,
     "metadata": {},
     "output_type": "execute_result"
    }
   ],
   "source": [
    "import gdown\n",
    "\n",
    "url = \"https://drive.google.com/file/d/11SpnlqeVOUOu72uTYBAn7p0C-oArz067/view?usp=sharing\"\n",
    "file_id = url.split(\"/\")[-2]\n",
    "file_id\n"
   ]
  },
  {
   "cell_type": "code",
   "execution_count": 4,
   "id": "c9eed0d8",
   "metadata": {},
   "outputs": [
    {
     "name": "stderr",
     "output_type": "stream",
     "text": [
      "Downloading...\n",
      "From (original): https://drive.google.com/uc?/export=download&id=11SpnlqeVOUOu72uTYBAn7p0C-oArz067\n",
      "From (redirected): https://drive.google.com/uc?%2Fexport=download&id=11SpnlqeVOUOu72uTYBAn7p0C-oArz067&confirm=t&uuid=ed3d9cb7-e488-4a24-b2cf-c1967c440b71\n",
      "To: /Users/snigdh/Desktop/MLOps/End-to-End-ML-Pipeline-with-MLFlow-DVC/research/Chest-CT-Scan-data.zip\n",
      "100%|██████████| 49.1M/49.1M [00:03<00:00, 13.1MB/s]\n"
     ]
    },
    {
     "data": {
      "text/plain": [
       "'Chest-CT-Scan-data.zip'"
      ]
     },
     "execution_count": 4,
     "metadata": {},
     "output_type": "execute_result"
    }
   ],
   "source": [
    "prefix = 'https://drive.google.com/uc?/export=download&id='\n",
    "gdown.download(prefix+file_id, \"Chest-CT-Scan-data.zip\")"
   ]
  },
  {
   "cell_type": "code",
   "execution_count": null,
   "id": "2e60a585",
   "metadata": {},
   "outputs": [],
   "source": []
  }
 ],
 "metadata": {
  "kernelspec": {
   "display_name": "images_classifier",
   "language": "python",
   "name": "python3"
  },
  "language_info": {
   "codemirror_mode": {
    "name": "ipython",
    "version": 3
   },
   "file_extension": ".py",
   "mimetype": "text/x-python",
   "name": "python",
   "nbconvert_exporter": "python",
   "pygments_lexer": "ipython3",
   "version": "3.10.0"
  }
 },
 "nbformat": 4,
 "nbformat_minor": 5
}
